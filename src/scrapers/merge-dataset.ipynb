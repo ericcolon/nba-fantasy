{
 "cells": [
  {
   "cell_type": "code",
   "execution_count": 19,
   "metadata": {},
   "outputs": [],
   "source": [
    "import datetime\n",
    "import pandas as pd\n",
    "import numpy as np\n",
    "\n",
    "def merge_current_season(bballref, rotoguru, date, site):\n",
    "    merged = pd.merge(rotoguru, bballref, how='left', on=['Date', 'First Name', 'Last Name']) \n",
    "    merged.to_csv('results/full-dataset/' + date + '-' + site + '.csv', index=False)\n",
    "    print(\"SUCCESSFULLY MERGED: \" + date + \"-\" + site)\n",
    "\n",
    "def merge_2015_2016():\n",
    "    bballref = pd.read_csv('results/bballref/2015-2016.csv') \n",
    "    dk = pd.read_csv('results/rotoGuru/20151027-20160619-dk.csv')\n",
    "    fd = pd.read_csv('results/rotoGuru/20151027-20160619-fd.csv') \n",
    "    merge_current_season(bballref, dk, '2015-2016', 'dk')\n",
    "    merge_current_season(bballref, fd, '2015-2016', 'fd')\n",
    "\n",
    "def merge_2016_2017():\n",
    "    bballref = pd.read_csv('results/bballref/2016-2017.csv') \n",
    "    dk = pd.read_csv('results/rotoGuru/20161025-20170618-dk.csv')\n",
    "    fd = pd.read_csv('results/rotoGuru/20161025-20170618-fd.csv') \n",
    "    merge_current_season(bballref, dk, '2016-2017', 'dk')\n",
    "    merge_current_season(bballref, fd, '2016-2017', 'fd')\n",
    "    \n",
    "\n",
    "def merge_2017_2018():\n",
    "    bballref = pd.read_csv('results/bballref/2017-2018.csv') \n",
    "    dk = pd.read_csv('results/rotoGuru/20171017-20180617-dk.csv')\n",
    "    fd = pd.read_csv('results/rotoGuru/20171017-20180617-fd.csv') \n",
    "    merge_current_season(bballref, dk, '2017-2018', 'dk')\n",
    "    merge_current_season(bballref, fd, '2017-2018', 'fd')\n",
    "    \n",
    "def merge_2018_2019():\n",
    "    now = datetime.datetime.now()\n",
    "    today = str(now.year) + str(now.month) + str(now.day)\n",
    "    bballref = pd.read_csv('results/bballref/2018-2019.csv') \n",
    "    dk = pd.read_csv('results/rotoGuru/20181016-' + today + '-dk.csv')\n",
    "    fd = pd.read_csv('results/rotoGuru/20181016-' + today + '-fd.csv') \n",
    "    merge_current_season(bballref, dk, '2018-2019', 'dk')\n",
    "    merge_current_season(bballref, fd, '2018-2019', 'fd')"
   ]
  },
  {
   "cell_type": "code",
   "execution_count": 20,
   "metadata": {},
   "outputs": [
    {
     "name": "stdout",
     "output_type": "stream",
     "text": [
      "SUCCESSFULLY MERGED: 2015-2016-dk\n",
      "SUCCESSFULLY MERGED: 2015-2016-fd\n"
     ]
    }
   ],
   "source": [
    "# NBA SEASON 2015-16\n",
    "merge_2015_2016()"
   ]
  },
  {
   "cell_type": "code",
   "execution_count": 21,
   "metadata": {},
   "outputs": [
    {
     "name": "stdout",
     "output_type": "stream",
     "text": [
      "SUCCESSFULLY MERGED: 2016-2017-dk\n",
      "SUCCESSFULLY MERGED: 2016-2017-fd\n"
     ]
    }
   ],
   "source": [
    "# NBA SEASON 2016-17\n",
    "merge_2016_2017()"
   ]
  },
  {
   "cell_type": "code",
   "execution_count": 22,
   "metadata": {},
   "outputs": [
    {
     "name": "stdout",
     "output_type": "stream",
     "text": [
      "SUCCESSFULLY MERGED: 2017-2018-dk\n",
      "SUCCESSFULLY MERGED: 2017-2018-fd\n"
     ]
    }
   ],
   "source": [
    "# NBA SEASON 2017-18\n",
    "merge_2017_2018()"
   ]
  },
  {
   "cell_type": "code",
   "execution_count": 23,
   "metadata": {},
   "outputs": [
    {
     "name": "stdout",
     "output_type": "stream",
     "text": [
      "SUCCESSFULLY MERGED: 2018-2019-dk\n",
      "SUCCESSFULLY MERGED: 2018-2019-fd\n"
     ]
    }
   ],
   "source": [
    "# NBA SEASON 2018-19\n",
    "merge_2018_2019()"
   ]
  }
 ],
 "metadata": {
  "kernelspec": {
   "display_name": "Python 3",
   "language": "python",
   "name": "python3"
  },
  "language_info": {
   "codemirror_mode": {
    "name": "ipython",
    "version": 3
   },
   "file_extension": ".py",
   "mimetype": "text/x-python",
   "name": "python",
   "nbconvert_exporter": "python",
   "pygments_lexer": "ipython3",
   "version": "3.6.5"
  }
 },
 "nbformat": 4,
 "nbformat_minor": 2
}
